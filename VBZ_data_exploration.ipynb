{
 "cells": [
  {
   "cell_type": "code",
   "execution_count": 2,
   "metadata": {},
   "outputs": [],
   "source": [
    "import pandas as pd\n",
    "import numpy as np\n",
    "import datetime as dt\n",
    "import matplotlib.pyplot as plt\n",
    "from modules import VBZ"
   ]
  },
  {
   "cell_type": "code",
   "execution_count": 3,
   "metadata": {},
   "outputs": [],
   "source": [
    "#Path to the data. Change on your own computer\n",
    "#G Computer:\n",
    "data_path = '/home/gp/Datasets/VBZ/'\n",
    "#C Computer:\n",
    "#data_path = '...'"
   ]
  },
  {
   "cell_type": "markdown",
   "metadata": {},
   "source": [
    "# Data load and initial cleanup"
   ]
  },
  {
   "cell_type": "markdown",
   "metadata": {},
   "source": [
    ">We load the data for the arrival and departure times as well as the data for the tram/busstops.\n",
    ">We also add some additional columns for further readability and to make future tasks easier"
   ]
  },
  {
   "cell_type": "code",
   "execution_count": 4,
   "metadata": {},
   "outputs": [
    {
     "name": "stdout",
     "output_type": "stream",
     "text": [
      "['linie' 'richtung' 'betriebsdatum' 'fahrzeug' 'kurs' 'seq_von'\n",
      " 'halt_diva_von' 'halt_punkt_diva_von' 'halt_kurz_von1' 'datum_von'\n",
      " 'soll_an_von' 'ist_an_von' 'soll_ab_von' 'ist_ab_von' 'seq_nach'\n",
      " 'halt_diva_nach' 'halt_punkt_diva_nach' 'halt_kurz_nach1' 'datum_nach'\n",
      " 'soll_an_nach' 'ist_an_nach1' 'soll_ab_nach' 'ist_ab_nach' 'fahrt_id'\n",
      " 'fahrweg_id' 'fw_no' 'fw_typ' 'fw_kurz' 'fw_lang' 'umlauf_von'\n",
      " 'halt_id_von' 'halt_id_nach' 'halt_punkt_id_von' 'halt_punkt_id_nach']\n"
     ]
    },
    {
     "data": {
      "text/html": [
       "<div>\n",
       "<style scoped>\n",
       "    .dataframe tbody tr th:only-of-type {\n",
       "        vertical-align: middle;\n",
       "    }\n",
       "\n",
       "    .dataframe tbody tr th {\n",
       "        vertical-align: top;\n",
       "    }\n",
       "\n",
       "    .dataframe thead th {\n",
       "        text-align: right;\n",
       "    }\n",
       "</style>\n",
       "<table border=\"1\" class=\"dataframe\">\n",
       "  <thead>\n",
       "    <tr style=\"text-align: right;\">\n",
       "      <th></th>\n",
       "      <th>linie</th>\n",
       "      <th>richtung</th>\n",
       "      <th>betriebsdatum</th>\n",
       "      <th>fahrzeug</th>\n",
       "      <th>kurs</th>\n",
       "      <th>seq_von</th>\n",
       "      <th>halt_diva_von</th>\n",
       "      <th>halt_punkt_diva_von</th>\n",
       "      <th>halt_kurz_von1</th>\n",
       "      <th>datum_von</th>\n",
       "      <th>...</th>\n",
       "      <th>fahrweg_id</th>\n",
       "      <th>fw_no</th>\n",
       "      <th>fw_typ</th>\n",
       "      <th>fw_kurz</th>\n",
       "      <th>fw_lang</th>\n",
       "      <th>umlauf_von</th>\n",
       "      <th>halt_id_von</th>\n",
       "      <th>halt_id_nach</th>\n",
       "      <th>halt_punkt_id_von</th>\n",
       "      <th>halt_punkt_id_nach</th>\n",
       "    </tr>\n",
       "  </thead>\n",
       "  <tbody>\n",
       "    <tr>\n",
       "      <th>0</th>\n",
       "      <td>2</td>\n",
       "      <td>1</td>\n",
       "      <td>15.07.18</td>\n",
       "      <td>2083</td>\n",
       "      <td>6</td>\n",
       "      <td>1</td>\n",
       "      <td>6030</td>\n",
       "      <td>0</td>\n",
       "      <td>DEP4</td>\n",
       "      <td>15.07.18</td>\n",
       "      <td>...</td>\n",
       "      <td>79519</td>\n",
       "      <td>15</td>\n",
       "      <td>2</td>\n",
       "      <td>15</td>\n",
       "      <td>DEP4 - KALK</td>\n",
       "      <td>162622</td>\n",
       "      <td>2251</td>\n",
       "      <td>1906</td>\n",
       "      <td>32451</td>\n",
       "      <td>10563</td>\n",
       "    </tr>\n",
       "    <tr>\n",
       "      <th>1</th>\n",
       "      <td>2</td>\n",
       "      <td>1</td>\n",
       "      <td>15.07.18</td>\n",
       "      <td>3034</td>\n",
       "      <td>3</td>\n",
       "      <td>1</td>\n",
       "      <td>478</td>\n",
       "      <td>0</td>\n",
       "      <td>BEZI</td>\n",
       "      <td>15.07.18</td>\n",
       "      <td>...</td>\n",
       "      <td>79515</td>\n",
       "      <td>11</td>\n",
       "      <td>1</td>\n",
       "      <td>11</td>\n",
       "      <td>BEZI - BTIE für Ausfahrt</td>\n",
       "      <td>160677</td>\n",
       "      <td>1306</td>\n",
       "      <td>1502</td>\n",
       "      <td>32822</td>\n",
       "      <td>32369</td>\n",
       "    </tr>\n",
       "    <tr>\n",
       "      <th>2</th>\n",
       "      <td>2</td>\n",
       "      <td>1</td>\n",
       "      <td>15.07.18</td>\n",
       "      <td>3034</td>\n",
       "      <td>3</td>\n",
       "      <td>5</td>\n",
       "      <td>601</td>\n",
       "      <td>0</td>\n",
       "      <td>BOES</td>\n",
       "      <td>15.07.18</td>\n",
       "      <td>...</td>\n",
       "      <td>79515</td>\n",
       "      <td>11</td>\n",
       "      <td>1</td>\n",
       "      <td>11</td>\n",
       "      <td>BEZI - BTIE für Ausfahrt</td>\n",
       "      <td>160677</td>\n",
       "      <td>2228</td>\n",
       "      <td>2590</td>\n",
       "      <td>32880</td>\n",
       "      <td>33358</td>\n",
       "    </tr>\n",
       "    <tr>\n",
       "      <th>3</th>\n",
       "      <td>2</td>\n",
       "      <td>1</td>\n",
       "      <td>15.07.18</td>\n",
       "      <td>3034</td>\n",
       "      <td>3</td>\n",
       "      <td>4</td>\n",
       "      <td>1861</td>\n",
       "      <td>0</td>\n",
       "      <td>PARA</td>\n",
       "      <td>15.07.18</td>\n",
       "      <td>...</td>\n",
       "      <td>79515</td>\n",
       "      <td>11</td>\n",
       "      <td>1</td>\n",
       "      <td>11</td>\n",
       "      <td>BEZI - BTIE für Ausfahrt</td>\n",
       "      <td>160677</td>\n",
       "      <td>1528</td>\n",
       "      <td>2228</td>\n",
       "      <td>32123</td>\n",
       "      <td>32880</td>\n",
       "    </tr>\n",
       "    <tr>\n",
       "      <th>4</th>\n",
       "      <td>2</td>\n",
       "      <td>1</td>\n",
       "      <td>15.07.18</td>\n",
       "      <td>3034</td>\n",
       "      <td>3</td>\n",
       "      <td>3</td>\n",
       "      <td>2396</td>\n",
       "      <td>0</td>\n",
       "      <td>SIHS</td>\n",
       "      <td>15.07.18</td>\n",
       "      <td>...</td>\n",
       "      <td>79515</td>\n",
       "      <td>11</td>\n",
       "      <td>1</td>\n",
       "      <td>11</td>\n",
       "      <td>BEZI - BTIE für Ausfahrt</td>\n",
       "      <td>160677</td>\n",
       "      <td>2657</td>\n",
       "      <td>1528</td>\n",
       "      <td>10574</td>\n",
       "      <td>32123</td>\n",
       "    </tr>\n",
       "  </tbody>\n",
       "</table>\n",
       "<p>5 rows × 34 columns</p>\n",
       "</div>"
      ],
      "text/plain": [
       "   linie  richtung betriebsdatum  fahrzeug  kurs  seq_von  halt_diva_von  \\\n",
       "0      2         1      15.07.18      2083     6        1           6030   \n",
       "1      2         1      15.07.18      3034     3        1            478   \n",
       "2      2         1      15.07.18      3034     3        5            601   \n",
       "3      2         1      15.07.18      3034     3        4           1861   \n",
       "4      2         1      15.07.18      3034     3        3           2396   \n",
       "\n",
       "   halt_punkt_diva_von halt_kurz_von1 datum_von  ...  fahrweg_id  fw_no  \\\n",
       "0                    0           DEP4  15.07.18  ...       79519     15   \n",
       "1                    0           BEZI  15.07.18  ...       79515     11   \n",
       "2                    0           BOES  15.07.18  ...       79515     11   \n",
       "3                    0           PARA  15.07.18  ...       79515     11   \n",
       "4                    0           SIHS  15.07.18  ...       79515     11   \n",
       "\n",
       "   fw_typ  fw_kurz                   fw_lang  umlauf_von  halt_id_von  \\\n",
       "0       2       15               DEP4 - KALK      162622         2251   \n",
       "1       1       11  BEZI - BTIE für Ausfahrt      160677         1306   \n",
       "2       1       11  BEZI - BTIE für Ausfahrt      160677         2228   \n",
       "3       1       11  BEZI - BTIE für Ausfahrt      160677         1528   \n",
       "4       1       11  BEZI - BTIE für Ausfahrt      160677         2657   \n",
       "\n",
       "  halt_id_nach halt_punkt_id_von  halt_punkt_id_nach  \n",
       "0         1906             32451               10563  \n",
       "1         1502             32822               32369  \n",
       "2         2590             32880               33358  \n",
       "3         2228             32123               32880  \n",
       "4         1528             10574               32123  \n",
       "\n",
       "[5 rows x 34 columns]"
      ]
     },
     "execution_count": 4,
     "metadata": {},
     "output_type": "execute_result"
    }
   ],
   "source": [
    "#Loading the data for arrival and departure times, including target and actual times.\n",
    "path_to_fahrzeiten = data_path + \"fahrzeiten_soll_ist_20180715_20180721.csv\"\n",
    "fahrzeiten_data = pd.read_csv(path_to_fahrzeiten);\n",
    "print(fahrzeiten_data.columns.values)\n",
    "fahrzeiten_data.head()"
   ]
  },
  {
   "cell_type": "code",
   "execution_count": 5,
   "metadata": {},
   "outputs": [
    {
     "data": {
      "text/html": [
       "<div>\n",
       "<style scoped>\n",
       "    .dataframe tbody tr th:only-of-type {\n",
       "        vertical-align: middle;\n",
       "    }\n",
       "\n",
       "    .dataframe tbody tr th {\n",
       "        vertical-align: top;\n",
       "    }\n",
       "\n",
       "    .dataframe thead th {\n",
       "        text-align: right;\n",
       "    }\n",
       "</style>\n",
       "<table border=\"1\" class=\"dataframe\">\n",
       "  <thead>\n",
       "    <tr style=\"text-align: right;\">\n",
       "      <th></th>\n",
       "      <th>halt_id</th>\n",
       "      <th>halt_diva</th>\n",
       "      <th>halt_kurz</th>\n",
       "      <th>halt_lang</th>\n",
       "      <th>halt_ist_aktiv</th>\n",
       "    </tr>\n",
       "  </thead>\n",
       "  <tbody>\n",
       "    <tr>\n",
       "      <th>0</th>\n",
       "      <td>143</td>\n",
       "      <td>2570</td>\n",
       "      <td>BirmSte</td>\n",
       "      <td>Birmensdorf ZH, Sternen/WSL</td>\n",
       "      <td>True</td>\n",
       "    </tr>\n",
       "    <tr>\n",
       "      <th>1</th>\n",
       "      <td>309</td>\n",
       "      <td>3356</td>\n",
       "      <td>WaldBir</td>\n",
       "      <td>Waldegg, Birmensdorferstrasse</td>\n",
       "      <td>True</td>\n",
       "    </tr>\n",
       "    <tr>\n",
       "      <th>2</th>\n",
       "      <td>373</td>\n",
       "      <td>6232</td>\n",
       "      <td>FRAF07</td>\n",
       "      <td>Zürich Flughafen, Fracht</td>\n",
       "      <td>True</td>\n",
       "    </tr>\n",
       "    <tr>\n",
       "      <th>3</th>\n",
       "      <td>539</td>\n",
       "      <td>2655</td>\n",
       "      <td>TBAH01</td>\n",
       "      <td>Thalwil, Bahnhof</td>\n",
       "      <td>True</td>\n",
       "    </tr>\n",
       "    <tr>\n",
       "      <th>4</th>\n",
       "      <td>588</td>\n",
       "      <td>3027</td>\n",
       "      <td>FLUG07</td>\n",
       "      <td>Zürich Flughafen, Bahnhof</td>\n",
       "      <td>True</td>\n",
       "    </tr>\n",
       "  </tbody>\n",
       "</table>\n",
       "</div>"
      ],
      "text/plain": [
       "   halt_id  halt_diva halt_kurz                      halt_lang  halt_ist_aktiv\n",
       "0      143       2570   BirmSte    Birmensdorf ZH, Sternen/WSL            True\n",
       "1      309       3356   WaldBir  Waldegg, Birmensdorferstrasse            True\n",
       "2      373       6232    FRAF07       Zürich Flughafen, Fracht            True\n",
       "3      539       2655    TBAH01               Thalwil, Bahnhof            True\n",
       "4      588       3027    FLUG07      Zürich Flughafen, Bahnhof            True"
      ]
     },
     "execution_count": 5,
     "metadata": {},
     "output_type": "execute_result"
    }
   ],
   "source": [
    "#Loading the data for the tram/busstops in order to map internal codes to actual stopnames.\n",
    "path_to_haltestellen = data_path + 'haltestelle.csv';\n",
    "haltestellen_data = pd.read_csv(path_to_haltestellen);\n",
    "haltestellen_data.head()"
   ]
  },
  {
   "cell_type": "markdown",
   "metadata": {},
   "source": [
    ">We make the arrival and departure times more human readable and put them into datetime objects that we can manipulate later"
   ]
  },
  {
   "cell_type": "code",
   "execution_count": 6,
   "metadata": {},
   "outputs": [],
   "source": [
    "#Using the date of the connection as well as the seconds since midnight to put arrival and departure times (target and actual) into machine readable format\n",
    "fahrzeiten_data['ankunft_soll'] = pd.Series([VBZ.datetime_from_date_and_seconds(d,s) \n",
    "                                             for (d,s) in zip(fahrzeiten_data['betriebsdatum'].tolist(),fahrzeiten_data['soll_an_von'].tolist())]);\n",
    "fahrzeiten_data['ankunft_ist'] = pd.Series([VBZ.datetime_from_date_and_seconds(d,s) \n",
    "                                            for (d,s) in zip(fahrzeiten_data['betriebsdatum'].tolist(),fahrzeiten_data['ist_an_von'].tolist())])\n",
    "fahrzeiten_data['abfahrt_soll'] = pd.Series([VBZ.datetime_from_date_and_seconds(d,s) \n",
    "                                             for (d,s) in zip(fahrzeiten_data['betriebsdatum'].tolist(),fahrzeiten_data['soll_ab_von'].tolist())]);\n",
    "fahrzeiten_data['ankunft_ist'] = pd.Series([VBZ.datetime_from_date_and_seconds(d,s) \n",
    "                                            for (d,s) in zip(fahrzeiten_data['betriebsdatum'].tolist(),fahrzeiten_data['ist_ab_von'].tolist())])"
   ]
  },
  {
   "cell_type": "markdown",
   "metadata": {},
   "source": [
    "# Analyzing deviations between target and actual arrival times"
   ]
  },
  {
   "cell_type": "markdown",
   "metadata": {},
   "source": [
    ">We compute and analyze deviations between target and actual arrival times, looking specifically for delays"
   ]
  },
  {
   "cell_type": "code",
   "execution_count": 53,
   "metadata": {},
   "outputs": [],
   "source": [
    "#Threshold: We exclude arrivals that are more than 5 minutes early or more than 30 minutes late\n",
    "threshold_lower = -300;\n",
    "threshold_upper = 1800;"
   ]
  },
  {
   "cell_type": "code",
   "execution_count": 54,
   "metadata": {},
   "outputs": [
    {
     "data": {
      "text/html": [
       "<div>\n",
       "<style scoped>\n",
       "    .dataframe tbody tr th:only-of-type {\n",
       "        vertical-align: middle;\n",
       "    }\n",
       "\n",
       "    .dataframe tbody tr th {\n",
       "        vertical-align: top;\n",
       "    }\n",
       "\n",
       "    .dataframe thead th {\n",
       "        text-align: right;\n",
       "    }\n",
       "</style>\n",
       "<table border=\"1\" class=\"dataframe\">\n",
       "  <thead>\n",
       "    <tr style=\"text-align: right;\">\n",
       "      <th></th>\n",
       "      <th>linie</th>\n",
       "      <th>ankunft_ist</th>\n",
       "      <th>ankunft_soll</th>\n",
       "      <th>deviation_datetime</th>\n",
       "      <th>deviation_in_sec</th>\n",
       "    </tr>\n",
       "  </thead>\n",
       "  <tbody>\n",
       "    <tr>\n",
       "      <th>0</th>\n",
       "      <td>2</td>\n",
       "      <td>2018-07-15 04:53:31</td>\n",
       "      <td>2018-07-15 04:53:00</td>\n",
       "      <td>00:00:31</td>\n",
       "      <td>31.0</td>\n",
       "    </tr>\n",
       "    <tr>\n",
       "      <th>1</th>\n",
       "      <td>2</td>\n",
       "      <td>2018-07-15 04:56:55</td>\n",
       "      <td>2018-07-15 04:56:42</td>\n",
       "      <td>00:00:13</td>\n",
       "      <td>13.0</td>\n",
       "    </tr>\n",
       "    <tr>\n",
       "      <th>2</th>\n",
       "      <td>2</td>\n",
       "      <td>2018-07-15 05:03:48</td>\n",
       "      <td>2018-07-15 05:03:42</td>\n",
       "      <td>00:00:06</td>\n",
       "      <td>6.0</td>\n",
       "    </tr>\n",
       "    <tr>\n",
       "      <th>3</th>\n",
       "      <td>2</td>\n",
       "      <td>2018-07-15 05:02:35</td>\n",
       "      <td>2018-07-15 05:02:36</td>\n",
       "      <td>-1 days +23:59:59</td>\n",
       "      <td>-1.0</td>\n",
       "    </tr>\n",
       "    <tr>\n",
       "      <th>4</th>\n",
       "      <td>2</td>\n",
       "      <td>2018-07-15 05:00:39</td>\n",
       "      <td>2018-07-15 05:00:54</td>\n",
       "      <td>-1 days +23:59:45</td>\n",
       "      <td>-15.0</td>\n",
       "    </tr>\n",
       "  </tbody>\n",
       "</table>\n",
       "</div>"
      ],
      "text/plain": [
       "   linie         ankunft_ist        ankunft_soll deviation_datetime  \\\n",
       "0      2 2018-07-15 04:53:31 2018-07-15 04:53:00           00:00:31   \n",
       "1      2 2018-07-15 04:56:55 2018-07-15 04:56:42           00:00:13   \n",
       "2      2 2018-07-15 05:03:48 2018-07-15 05:03:42           00:00:06   \n",
       "3      2 2018-07-15 05:02:35 2018-07-15 05:02:36  -1 days +23:59:59   \n",
       "4      2 2018-07-15 05:00:39 2018-07-15 05:00:54  -1 days +23:59:45   \n",
       "\n",
       "   deviation_in_sec  \n",
       "0              31.0  \n",
       "1              13.0  \n",
       "2               6.0  \n",
       "3              -1.0  \n",
       "4             -15.0  "
      ]
     },
     "execution_count": 54,
     "metadata": {},
     "output_type": "execute_result"
    }
   ],
   "source": [
    "#Computing the deviation in arrival times, both in datetime and in seconds\n",
    "fahrzeiten_data['deviation_datetime'] = fahrzeiten_data['ankunft_ist'] - fahrzeiten_data['ankunft_soll'];\n",
    "fahrzeiten_data['deviation_in_sec'] = fahrzeiten_data.deviation_datetime.apply(lambda d:d.total_seconds());\n",
    "fahrzeiten_data[['linie','ankunft_ist','ankunft_soll','deviation_datetime','deviation_in_sec']].head()"
   ]
  },
  {
   "cell_type": "code",
   "execution_count": 57,
   "metadata": {},
   "outputs": [
    {
     "data": {
      "image/png": "[encoded data removed]",
      "text/plain": [
       "<Figure size 432x288 with 1 Axes>"
      ]
     },
     "metadata": {
      "needs_background": "light"
     },
     "output_type": "display_data"
    },
    {
     "data": {
      "image/png": "[encoded data removed]",
      "text/plain": [
       "<Figure size 432x288 with 1 Axes>"
      ]
     },
     "metadata": {
      "needs_background": "light"
     },
     "output_type": "display_data"
    }
   ],
   "source": [
    "#Plotting the deviation histograms, filtering out any connectionthat arrived 10 minutes or more\n",
    "#early (assumed mistake/outlier) or more than 1h late (assumed failure)\n",
    "s = fahrzeiten_data['deviation_in_sec'];\n",
    "plt.hist(s[s>threshold_lower][s<threshold_upper],100);\n",
    "plt.title('Deviations in arrival time');\n",
    "plt.ylabel('Number of occurences');\n",
    "plt.xlabel('Deviation in seconds');\n",
    "plt.show();\n",
    "plt.hist(s[s>300][s<1800],100);\n",
    "plt.title('Delays in arrival time (between 5 minutes and 30 minutes late)')\n",
    "plt.ylabel('Number of occurences')\n",
    "plt.xlabel('Deviation in seconds')\n",
    "plt.show()"
   ]
  },
  {
   "cell_type": "code",
   "execution_count": 59,
   "metadata": {},
   "outputs": [
    {
     "data": {
      "image/png": "[encoded data removed]",
      "text/plain": [
       "<Figure size 936x936 with 1 Axes>"
      ]
     },
     "metadata": {
      "needs_background": "light"
     },
     "output_type": "display_data"
    }
   ],
   "source": [
    "#Plotting the average delay for each line. If the line arrives early, the deviation is set to 0. \n",
    "#Outliers (more than 1h late) are excluded\n",
    "lines = fahrzeiten_data.linie.unique();\n",
    "average_delay = {};\n",
    "for line in lines:\n",
    "    average_delay[line] = (fahrzeiten_data['deviation_in_sec']\n",
    "                           [fahrzeiten_data['deviation_in_sec']>threshold_lower]\n",
    "                           [fahrzeiten_data['deviation_in_sec']<threshold_upper]\n",
    "                           [fahrzeiten_data['linie']==line]\n",
    "                           .clip(lower=0)\n",
    "                           .mean())\n",
    "plt.figure(figsize=(13,13))\n",
    "plt.barh(range(len(average_delay)),average_delay.values())\n",
    "plt.yticks(range(len(average_delay)),average_delay.keys())\n",
    "plt.title('Average delay for each public transport line')\n",
    "plt.ylabel('Line')\n",
    "plt.xlabel('Delay in seconds')\n",
    "plt.show()"
   ]
  },
  {
   "cell_type": "code",
   "execution_count": 51,
   "metadata": {},
   "outputs": [
    {
     "data": {
      "text/plain": [
       "6            Zürich, Goldbrunnenplatz\n",
       "16      Zürich, Schaufelbergerstrasse\n",
       "20                    Zürich, Triemli\n",
       "27           Zürich, Sternen Oerlikon\n",
       "55                Zürich, Stauffacher\n",
       "57                  Zürich, Milchbuck\n",
       "73        Zürich, Hirschwiesenstrasse\n",
       "75                       Zürich, Werd\n",
       "80          Zürich, Schaffhauserplatz\n",
       "82            Zürich, Bahnhofplatz/HB\n",
       "83             Zürich, Bahnhofquai/HB\n",
       "87           Zürich, Bahnhof Wiedikon\n",
       "93                    Zürich, Seebach\n",
       "118          Zürich, Bahnhof Oerlikon\n",
       "127         Zürich, Felsenrainstrasse\n",
       "139                   Zürich, Heuried\n",
       "143      Zürich, Bahnhof Oerlikon Ost\n",
       "181            Zürich, Guggachstrasse\n",
       "193         Zürich, Schmiede Wiedikon\n",
       "203                 Zürich, Beckenhof\n",
       "204             Zürich, Kronenstrasse\n",
       "205         Zürich, Stampfenbachplatz\n",
       "238    Zürich, Depot 4 Elisabethenstr\n",
       "241                Zürich, Löwenplatz\n",
       "245             Zürich, Sihlpost / HB\n",
       "248              Zürich, Berninaplatz\n",
       "258          Zürich, Depot 8 Oerlikon\n",
       "263                Zürich, Salersteig\n",
       "508          Zürich, Talwiesenstrasse\n",
       "Name: halt_lang, dtype: object"
      ]
     },
     "execution_count": 51,
     "metadata": {},
     "output_type": "execute_result"
    }
   ],
   "source": [
    "#Checking the stops for line 14 to confirm that internal and external line numbers are the same\n",
    "h_ids_14 = fahrzeiten_data['halt_id_von'][fahrzeiten_data['linie']==14];\n",
    "haltestellen_data['halt_lang'][haltestellen_data['halt_id'].isin(h_ids_14)]"
   ]
  },
  {
   "cell_type": "code",
   "execution_count": null,
   "metadata": {},
   "outputs": [],
   "source": []
  }
 ],
 "metadata": {
  "kernelspec": {
   "display_name": "Python 3",
   "language": "python",
   "name": "python3"
  },
  "language_info": {
   "codemirror_mode": {
    "name": "ipython",
    "version": 3
   },
   "file_extension": ".py",
   "mimetype": "text/x-python",
   "name": "python",
   "nbconvert_exporter": "python",
   "pygments_lexer": "ipython3",
   "version": "3.7.3"
  }
 },
 "nbformat": 4,
 "nbformat_minor": 2
}
