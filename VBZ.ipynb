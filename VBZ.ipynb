{
 "cells": [
  {
   "cell_type": "code",
   "execution_count": 7,
   "metadata": {},
   "outputs": [],
   "source": [
    "import pandas as pd\n",
    "import numpy as np\n",
    "\n",
    "# read in one file\n",
    "path = 'C://data//fahrzeiten_soll_ist_20171231_20180106.csv'\n",
    "data=pd.read_csv(path)\n",
    "\n",
    "path_halt='C://data//haltepunkt.csv'\n",
    "halt=pd.read_csv(path_halt)\n",
    "\n",
    "path_stelle='C://data//haltestelle.csv'\n",
    "stelle=pd.read_csv(path_stelle)\n",
    " "
   ]
  },
  {
   "cell_type": "code",
   "execution_count": 3,
   "metadata": {},
   "outputs": [
    {
     "data": {
      "text/html": "<div>\n<style scoped>\n    .dataframe tbody tr th:only-of-type {\n        vertical-align: middle;\n    }\n\n    .dataframe tbody tr th {\n        vertical-align: top;\n    }\n\n    .dataframe thead th {\n        text-align: right;\n    }\n</style>\n<table border=\"1\" class=\"dataframe\">\n  <thead>\n    <tr style=\"text-align: right;\">\n      <th></th>\n      <th>linie</th>\n      <th>richtung</th>\n      <th>betriebsdatum</th>\n      <th>fahrzeug</th>\n      <th>kurs</th>\n      <th>seq_von</th>\n      <th>halt_diva_von</th>\n      <th>halt_punkt_diva_von</th>\n      <th>halt_kurz_von1</th>\n      <th>datum_von</th>\n      <th>...</th>\n      <th>fahrweg_id</th>\n      <th>fw_no</th>\n      <th>fw_typ</th>\n      <th>fw_kurz</th>\n      <th>fw_lang</th>\n      <th>umlauf_von</th>\n      <th>halt_id_von</th>\n      <th>halt_id_nach</th>\n      <th>halt_punkt_id_von</th>\n      <th>halt_punkt_id_nach</th>\n    </tr>\n  </thead>\n  <tbody>\n    <tr>\n      <th>0</th>\n      <td>2</td>\n      <td>1</td>\n      <td>31.12.17</td>\n      <td>3005</td>\n      <td>15</td>\n      <td>1</td>\n      <td>6030</td>\n      <td>0</td>\n      <td>DEP4</td>\n      <td>31.12.17</td>\n      <td>...</td>\n      <td>57553</td>\n      <td>15</td>\n      <td>2</td>\n      <td>15</td>\n      <td>DEP4 - KALK</td>\n      <td>162545</td>\n      <td>2251</td>\n      <td>1906</td>\n      <td>14600</td>\n      <td>10563</td>\n    </tr>\n    <tr>\n      <th>1</th>\n      <td>2</td>\n      <td>1</td>\n      <td>31.12.17</td>\n      <td>2086</td>\n      <td>12</td>\n      <td>1</td>\n      <td>478</td>\n      <td>0</td>\n      <td>BEZI</td>\n      <td>31.12.17</td>\n      <td>...</td>\n      <td>61838</td>\n      <td>11</td>\n      <td>1</td>\n      <td>11</td>\n      <td>BEZI - BTIE für Ausfahrt</td>\n      <td>160772</td>\n      <td>1306</td>\n      <td>1502</td>\n      <td>12780</td>\n      <td>14599</td>\n    </tr>\n    <tr>\n      <th>2</th>\n      <td>2</td>\n      <td>1</td>\n      <td>31.12.17</td>\n      <td>2086</td>\n      <td>12</td>\n      <td>5</td>\n      <td>601</td>\n      <td>0</td>\n      <td>BOES</td>\n      <td>31.12.17</td>\n      <td>...</td>\n      <td>61838</td>\n      <td>11</td>\n      <td>1</td>\n      <td>11</td>\n      <td>BEZI - BTIE für Ausfahrt</td>\n      <td>160772</td>\n      <td>2228</td>\n      <td>2590</td>\n      <td>12823</td>\n      <td>12843</td>\n    </tr>\n    <tr>\n      <th>3</th>\n      <td>2</td>\n      <td>1</td>\n      <td>31.12.17</td>\n      <td>2086</td>\n      <td>12</td>\n      <td>4</td>\n      <td>1861</td>\n      <td>0</td>\n      <td>PARA</td>\n      <td>31.12.17</td>\n      <td>...</td>\n      <td>61838</td>\n      <td>11</td>\n      <td>1</td>\n      <td>11</td>\n      <td>BEZI - BTIE für Ausfahrt</td>\n      <td>160772</td>\n      <td>1528</td>\n      <td>2228</td>\n      <td>12911</td>\n      <td>12823</td>\n    </tr>\n    <tr>\n      <th>4</th>\n      <td>2</td>\n      <td>1</td>\n      <td>31.12.17</td>\n      <td>2086</td>\n      <td>12</td>\n      <td>3</td>\n      <td>2396</td>\n      <td>0</td>\n      <td>SIHS</td>\n      <td>31.12.17</td>\n      <td>...</td>\n      <td>61838</td>\n      <td>11</td>\n      <td>1</td>\n      <td>11</td>\n      <td>BEZI - BTIE für Ausfahrt</td>\n      <td>160772</td>\n      <td>2657</td>\n      <td>1528</td>\n      <td>10574</td>\n      <td>12911</td>\n    </tr>\n  </tbody>\n</table>\n<p>5 rows × 34 columns</p>\n</div>",
      "text/plain": "   linie  richtung betriebsdatum  fahrzeug  kurs  seq_von  halt_diva_von  \\\n0      2         1      31.12.17      3005    15        1           6030   \n1      2         1      31.12.17      2086    12        1            478   \n2      2         1      31.12.17      2086    12        5            601   \n3      2         1      31.12.17      2086    12        4           1861   \n4      2         1      31.12.17      2086    12        3           2396   \n\n   halt_punkt_diva_von halt_kurz_von1 datum_von         ...          \\\n0                    0           DEP4  31.12.17         ...           \n1                    0           BEZI  31.12.17         ...           \n2                    0           BOES  31.12.17         ...           \n3                    0           PARA  31.12.17         ...           \n4                    0           SIHS  31.12.17         ...           \n\n   fahrweg_id  fw_no  fw_typ  fw_kurz                   fw_lang  umlauf_von  \\\n0       57553     15       2       15               DEP4 - KALK      162545   \n1       61838     11       1       11  BEZI - BTIE für Ausfahrt      160772   \n2       61838     11       1       11  BEZI - BTIE für Ausfahrt      160772   \n3       61838     11       1       11  BEZI - BTIE für Ausfahrt      160772   \n4       61838     11       1       11  BEZI - BTIE für Ausfahrt      160772   \n\n   halt_id_von halt_id_nach halt_punkt_id_von  halt_punkt_id_nach  \n0         2251         1906             14600               10563  \n1         1306         1502             12780               14599  \n2         2228         2590             12823               12843  \n3         1528         2228             12911               12823  \n4         2657         1528             10574               12911  \n\n[5 rows x 34 columns]"
     },
     "execution_count": 3,
     "metadata": {},
     "output_type": "execute_result"
    }
   ],
   "source": [
    "data.head()\n"
   ]
  },
  {
   "cell_type": "code",
   "execution_count": 4,
   "metadata": {},
   "outputs": [
    {
     "data": {
      "text/html": "<div>\n<style scoped>\n    .dataframe tbody tr th:only-of-type {\n        vertical-align: middle;\n    }\n\n    .dataframe tbody tr th {\n        vertical-align: top;\n    }\n\n    .dataframe thead th {\n        text-align: right;\n    }\n</style>\n<table border=\"1\" class=\"dataframe\">\n  <thead>\n    <tr style=\"text-align: right;\">\n      <th></th>\n      <th>halt_punkt_id</th>\n      <th>halt_punkt_diva</th>\n      <th>halt_id</th>\n      <th>GPS_Latitude</th>\n      <th>GPS_Longitude</th>\n      <th>GPS_Bearing</th>\n      <th>halt_punkt_ist_aktiv</th>\n    </tr>\n  </thead>\n  <tbody>\n    <tr>\n      <th>0</th>\n      <td>303</td>\n      <td>51</td>\n      <td>143</td>\n      <td>47.360017</td>\n      <td>8.456337</td>\n      <td>85.0</td>\n      <td>False</td>\n    </tr>\n    <tr>\n      <th>1</th>\n      <td>304</td>\n      <td>50</td>\n      <td>143</td>\n      <td>47.360153</td>\n      <td>8.456180</td>\n      <td>270.0</td>\n      <td>False</td>\n    </tr>\n    <tr>\n      <th>2</th>\n      <td>686</td>\n      <td>50</td>\n      <td>309</td>\n      <td>47.368125</td>\n      <td>8.463072</td>\n      <td>212.0</td>\n      <td>False</td>\n    </tr>\n    <tr>\n      <th>3</th>\n      <td>687</td>\n      <td>51</td>\n      <td>309</td>\n      <td>47.368433</td>\n      <td>8.463819</td>\n      <td>19.0</td>\n      <td>False</td>\n    </tr>\n    <tr>\n      <th>4</th>\n      <td>823</td>\n      <td>51</td>\n      <td>373</td>\n      <td>47.452401</td>\n      <td>8.571871</td>\n      <td>208.0</td>\n      <td>False</td>\n    </tr>\n  </tbody>\n</table>\n</div>",
      "text/plain": "   halt_punkt_id  halt_punkt_diva  halt_id  GPS_Latitude  GPS_Longitude  \\\n0            303               51      143     47.360017       8.456337   \n1            304               50      143     47.360153       8.456180   \n2            686               50      309     47.368125       8.463072   \n3            687               51      309     47.368433       8.463819   \n4            823               51      373     47.452401       8.571871   \n\n   GPS_Bearing  halt_punkt_ist_aktiv  \n0         85.0                 False  \n1        270.0                 False  \n2        212.0                 False  \n3         19.0                 False  \n4        208.0                 False  "
     },
     "execution_count": 4,
     "metadata": {},
     "output_type": "execute_result"
    }
   ],
   "source": [
    "halt.head()\n"
   ]
  },
  {
   "cell_type": "code",
   "execution_count": 8,
   "metadata": {},
   "outputs": [
    {
     "data": {
      "text/html": "<div>\n<style scoped>\n    .dataframe tbody tr th:only-of-type {\n        vertical-align: middle;\n    }\n\n    .dataframe tbody tr th {\n        vertical-align: top;\n    }\n\n    .dataframe thead th {\n        text-align: right;\n    }\n</style>\n<table border=\"1\" class=\"dataframe\">\n  <thead>\n    <tr style=\"text-align: right;\">\n      <th></th>\n      <th>halt_id</th>\n      <th>halt_diva</th>\n      <th>halt_kurz</th>\n      <th>halt_lang</th>\n      <th>halt_ist_aktiv</th>\n    </tr>\n  </thead>\n  <tbody>\n    <tr>\n      <th>0</th>\n      <td>143</td>\n      <td>2570</td>\n      <td>BirmSte</td>\n      <td>Birmensdorf ZH, Sternen/WSL</td>\n      <td>True</td>\n    </tr>\n    <tr>\n      <th>1</th>\n      <td>309</td>\n      <td>3356</td>\n      <td>WaldBir</td>\n      <td>Waldegg, Birmensdorferstrasse</td>\n      <td>True</td>\n    </tr>\n    <tr>\n      <th>2</th>\n      <td>373</td>\n      <td>6232</td>\n      <td>FRAF07</td>\n      <td>Zürich Flughafen, Fracht</td>\n      <td>True</td>\n    </tr>\n    <tr>\n      <th>3</th>\n      <td>539</td>\n      <td>2655</td>\n      <td>TBAH01</td>\n      <td>Thalwil, Bahnhof</td>\n      <td>True</td>\n    </tr>\n    <tr>\n      <th>4</th>\n      <td>588</td>\n      <td>3027</td>\n      <td>FLUG07</td>\n      <td>Zürich Flughafen, Bahnhof</td>\n      <td>True</td>\n    </tr>\n  </tbody>\n</table>\n</div>",
      "text/plain": "   halt_id  halt_diva halt_kurz                      halt_lang  halt_ist_aktiv\n0      143       2570   BirmSte    Birmensdorf ZH, Sternen/WSL            True\n1      309       3356   WaldBir  Waldegg, Birmensdorferstrasse            True\n2      373       6232    FRAF07       Zürich Flughafen, Fracht            True\n3      539       2655    TBAH01               Thalwil, Bahnhof            True\n4      588       3027    FLUG07      Zürich Flughafen, Bahnhof            True"
     },
     "execution_count": 8,
     "metadata": {},
     "output_type": "execute_result"
    }
   ],
   "source": [
    "stelle.head()"
   ]
  },
  {
   "cell_type": "code",
   "execution_count": 9,
   "metadata": {},
   "outputs": [
    {
     "data": {
      "text/plain": "linie                             2\nrichtung                          1\nbetriebsdatum              31.12.17\nfahrzeug                       3005\nkurs                             15\nseq_von                           1\nhalt_diva_von                  6030\nhalt_punkt_diva_von               0\nhalt_kurz_von1                 DEP4\ndatum_von                  31.12.17\nsoll_an_von                   17580\nist_an_von                    17576\nsoll_ab_von                   17580\nist_ab_von                    17576\nseq_nach                          2\nhalt_diva_nach                 1357\nhalt_punkt_diva_nach              1\nhalt_kurz_nach1                KALK\ndatum_nach                 31.12.17\nsoll_an_nach                  17640\nist_an_nach1                  17702\nsoll_ab_nach                  17640\nist_ab_nach                   17712\nfahrt_id                      24748\nfahrweg_id                    57553\nfw_no                            15\nfw_typ                            2\nfw_kurz                          15\nfw_lang                 DEP4 - KALK\numlauf_von                   162545\nhalt_id_von                    2251\nhalt_id_nach                   1906\nhalt_punkt_id_von             14600\nhalt_punkt_id_nach            10563\nName: 0, dtype: object"
     },
     "execution_count": 9,
     "metadata": {},
     "output_type": "execute_result"
    }
   ],
   "source": [
    "data.iloc[0]\n"
   ]
  },
  {
   "cell_type": "code",
   "execution_count": 10,
   "metadata": {},
   "outputs": [
    {
     "data": {
      "text/plain": "0            2\n1            2\n2            2\n3            2\n4            2\n5            2\n6            2\n7            2\n8            2\n9            2\n10           2\n11           2\n12           2\n13           2\n14           2\n15           2\n16           2\n17           2\n18           2\n19           2\n20           2\n21           2\n22           2\n23           2\n24           2\n25           2\n26           2\n27           2\n28           2\n29           2\n          ... \n1303462    705\n1303463    705\n1303464    705\n1303465    705\n1303466    705\n1303467    705\n1303468    705\n1303469    705\n1303470    705\n1303471    705\n1303472    705\n1303473    705\n1303474    705\n1303475    705\n1303476    705\n1303477    705\n1303478    705\n1303479    705\n1303480    705\n1303481    705\n1303482    705\n1303483    705\n1303484    705\n1303485    705\n1303486    705\n1303487    705\n1303488    705\n1303489    705\n1303490    916\n1303491    916\nName: linie, Length: 1303492, dtype: int64"
     },
     "execution_count": 10,
     "metadata": {},
     "output_type": "execute_result"
    }
   ],
   "source": [
    "import datetime as dt"
   ]
  },
  {
   "source": [
    "import VBZ\\\\VBZ"
   ],
   "cell_type": "code",
   "outputs": [
    {
     "output_type": "error",
     "ename": "SyntaxError",
     "evalue": "unexpected character after line continuation character (<ipython-input-41-65ba6c25808b>, line 1)",
     "traceback": [
      "\u001b[1;36m  File \u001b[1;32m\"<ipython-input-41-65ba6c25808b>\"\u001b[1;36m, line \u001b[1;32m1\u001b[0m\n\u001b[1;33m    import VBZ\\\\VBZ\u001b[0m\n\u001b[1;37m                   ^\u001b[0m\n\u001b[1;31mSyntaxError\u001b[0m\u001b[1;31m:\u001b[0m unexpected character after line continuation character\n"
     ]
    }
   ],
   "metadata": {},
   "execution_count": 41
  },
  {
   "cell_type": "code",
   "execution_count": 34,
   "metadata": {},
   "outputs": [
    {
     "data": {
      "text/plain": "<module 'VBZ' (namespace)>"
     },
     "execution_count": 34,
     "metadata": {},
     "output_type": "execute_result"
    }
   ],
   "source": [
    "VBZ"
   ]
  },
  {
   "cell_type": "code",
   "execution_count": 36,
   "metadata": {},
   "outputs": [
    {
     "ename": "AttributeError",
     "evalue": "module 'VBZ' has no attribute 'Second_to_timeStr'",
     "output_type": "error",
     "traceback": [
      "\u001b[1;31m---------------------------------------------------------------------------\u001b[0m",
      "\u001b[1;31mAttributeError\u001b[0m                            Traceback (most recent call last)",
      "\u001b[1;32m<ipython-input-36-cf94a8071447>\u001b[0m in \u001b[0;36m<module>\u001b[1;34m()\u001b[0m\n\u001b[1;32m----> 1\u001b[1;33m \u001b[0mVBZ\u001b[0m\u001b[1;33m.\u001b[0m\u001b[0mSecond_to_timeStr\u001b[0m\u001b[1;33m(\u001b[0m\u001b[1;36m253\u001b[0m\u001b[1;33m)\u001b[0m\u001b[1;33m\u001b[0m\u001b[0m\n\u001b[0m",
      "\u001b[1;31mAttributeError\u001b[0m: module 'VBZ' has no attribute 'Second_to_timeStr'"
     ]
    }
   ],
   "source": [
    "VBZ.Second_to_timeStr(253)"
   ]
  },
  {
   "cell_type": "code",
   "execution_count": 37,
   "metadata": {},
   "outputs": [
    {
     "data": {
      "text/plain": "'w:\\\\Github'"
     },
     "execution_count": 37,
     "metadata": {},
     "output_type": "execute_result"
    }
   ],
   "source": [
    "pwd"
   ]
  },
  {
   "cell_type": "code",
   "execution_count": null,
   "metadata": {},
   "outputs": [],
   "source": []
  }
 ],
 "metadata": {
  "kernelspec": {
   "display_name": "Python 3",
   "language": "python",
   "name": "python3"
  },
  "language_info": {
   "codemirror_mode": {
    "name": "ipython",
    "version": 3
   },
   "file_extension": ".py",
   "mimetype": "text/x-python",
   "name": "python",
   "nbconvert_exporter": "python",
   "pygments_lexer": "ipython3",
   "version": "3.6.4"
  }
 },
 "nbformat": 4,
 "nbformat_minor": 2
}